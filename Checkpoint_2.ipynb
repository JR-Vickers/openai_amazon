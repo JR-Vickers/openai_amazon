{
 "cells": [
  {
   "cell_type": "markdown",
   "id": "0689c424-1eb6-4ce8-8cf5-761a5f7dc45d",
   "metadata": {},
   "source": [
    "# Checkpoint 2 – An early explorer\n",
    "\n",
    "Show us you can mine and gather insights from multiple data types. Submit  code that:\n",
    "\n",
    "1. Loads two independent public sources (e.g., GEDI + TerraBrasilis polygons)\n",
    "2. Produces at least five candidate “anomaly” footprints (bbox WKT or lat/lon center + radius)\n",
    "3. Logs all dataset IDs and OpenAI prompts. Verify:  Automated script re‑runs → same five footprints ±50 m.\n",
    "4. Show us how you can use this new data in future discovery - re-prompt the model with this leverage."
   ]
  },
  {
   "cell_type": "code",
   "execution_count": 1,
   "id": "7fd32a32-8903-406d-a518-5aada52267f0",
   "metadata": {},
   "outputs": [],
   "source": [
    "from xml.etree import ElementTree as ET\n",
    "from shapely.geometry import Point\n",
    "from pathlib import Path\n",
    "from openai import OpenAI\n",
    "from dotenv import load_dotenv\n",
    "from selenium import webdriver\n",
    "from selenium.webdriver.chrome.options import Options\n",
    "import logging, random, pathlib, datetime as dt\n",
    "import geopandas as gpd\n",
    "import numpy as np\n",
    "import geemap\n",
    "import os\n",
    "import base64\n",
    "import time\n",
    "import json\n",
    "import re"
   ]
  },
  {
   "cell_type": "code",
   "execution_count": 2,
   "id": "45f62d0d",
   "metadata": {},
   "outputs": [
    {
     "data": {
      "text/html": [
       "\n",
       "            <style>\n",
       "                .geemap-dark {\n",
       "                    --jp-widgets-color: white;\n",
       "                    --jp-widgets-label-color: white;\n",
       "                    --jp-ui-font-color1: white;\n",
       "                    --jp-layout-color2: #454545;\n",
       "                    background-color: #383838;\n",
       "                }\n",
       "\n",
       "                .geemap-dark .jupyter-button {\n",
       "                    --jp-layout-color3: #383838;\n",
       "                }\n",
       "\n",
       "                .geemap-colab {\n",
       "                    background-color: var(--colab-primary-surface-color, white);\n",
       "                }\n",
       "\n",
       "                .geemap-colab .jupyter-button {\n",
       "                    --jp-layout-color3: var(--colab-primary-surface-color, white);\n",
       "                }\n",
       "            </style>\n",
       "            "
      ],
      "text/plain": [
       "<IPython.core.display.HTML object>"
      ]
     },
     "metadata": {},
     "output_type": "display_data"
    }
   ],
   "source": [
    "logging.basicConfig(\n",
    "    filename=\"checkpoint2_run.log\",\n",
    "    level=logging.INFO,\n",
    "    format=\"%(asctime)s | %(levelname)s | %(message)s\",\n",
    ")\n",
    "\n",
    "SEED = 42\n",
    "random.seed(SEED)\n",
    "np.random.seed(SEED)\n",
    "RUN_ID = dt.datetime.now(dt.UTC).isoformat(timespec=\"seconds\")\n",
    "pathlib.Path(\"outputs\").mkdir(exist_ok=True)"
   ]
  },
  {
   "cell_type": "markdown",
   "id": "2f46692c",
   "metadata": {},
   "source": [
    "### Step 1: Load 2 Independent Data Sources\n",
    "For our first dataset, we'll load TerraBrasilis.  We've already downloaded the main file from the [TerraBrasilis Website](https://terrabrasilis.dpi.inpe.br/en/download-files/).  Specifically, we're using \"Complete PRODES in vector format - GeoPackage ~800MB (2007-2023).\""
   ]
  },
  {
   "cell_type": "markdown",
   "id": "968648fd",
   "metadata": {},
   "source": [
    "The main, unzipped file is far too large to load directly.  First, we'll do some data processing.  Mostly, this involves:\n",
    "1. Focus only on recent data (in this case, 2023).\n",
    "2. Take a random sampling of 10,000 polygons, instead of all of them.\n",
    "3. Save the data as a .kml for easy access."
   ]
  },
  {
   "cell_type": "code",
   "execution_count": 3,
   "id": "17ec54e6",
   "metadata": {},
   "outputs": [
    {
     "data": {
      "text/html": [
       "\n",
       "            <style>\n",
       "                .geemap-dark {\n",
       "                    --jp-widgets-color: white;\n",
       "                    --jp-widgets-label-color: white;\n",
       "                    --jp-ui-font-color1: white;\n",
       "                    --jp-layout-color2: #454545;\n",
       "                    background-color: #383838;\n",
       "                }\n",
       "\n",
       "                .geemap-dark .jupyter-button {\n",
       "                    --jp-layout-color3: #383838;\n",
       "                }\n",
       "\n",
       "                .geemap-colab {\n",
       "                    background-color: var(--colab-primary-surface-color, white);\n",
       "                }\n",
       "\n",
       "                .geemap-colab .jupyter-button {\n",
       "                    --jp-layout-color3: var(--colab-primary-surface-color, white);\n",
       "                }\n",
       "            </style>\n",
       "            "
      ],
      "text/plain": [
       "<IPython.core.display.HTML object>"
      ]
     },
     "metadata": {},
     "output_type": "display_data"
    }
   ],
   "source": [
    "# Path to your KML file\n",
    "tb_path = 'data/terrabrasilis/terrabrasilis_2023.0.kml'\n",
    "\n",
    "# Finally, save the Terrabrasilis data as tb_gdf\n",
    "tb_gdf = gpd.read_file(tb_path, driver='KML')"
   ]
  },
  {
   "cell_type": "markdown",
   "id": "88cbccb8",
   "metadata": {},
   "source": [
    "### Step 1 (Continued): Add the Second Data Set\n",
    "For our second data set, we'll add the geoglyphs map provided by [James Q. Jacobs](https://www.jqjacobs.net/blog/).  For our purposes, we're focused on the main 'geoglyphs' layer."
   ]
  },
  {
   "cell_type": "code",
   "execution_count": 4,
   "id": "59ac42b4",
   "metadata": {},
   "outputs": [
    {
     "data": {
      "text/html": [
       "\n",
       "            <style>\n",
       "                .geemap-dark {\n",
       "                    --jp-widgets-color: white;\n",
       "                    --jp-widgets-label-color: white;\n",
       "                    --jp-ui-font-color1: white;\n",
       "                    --jp-layout-color2: #454545;\n",
       "                    background-color: #383838;\n",
       "                }\n",
       "\n",
       "                .geemap-dark .jupyter-button {\n",
       "                    --jp-layout-color3: #383838;\n",
       "                }\n",
       "\n",
       "                .geemap-colab {\n",
       "                    background-color: var(--colab-primary-surface-color, white);\n",
       "                }\n",
       "\n",
       "                .geemap-colab .jupyter-button {\n",
       "                    --jp-layout-color3: var(--colab-primary-surface-color, white);\n",
       "                }\n",
       "            </style>\n",
       "            "
      ],
      "text/plain": [
       "<IPython.core.display.HTML object>"
      ]
     },
     "metadata": {},
     "output_type": "display_data"
    },
    {
     "name": "stdout",
     "output_type": "stream",
     "text": [
      "Total geoglyphs found: 1595\n"
     ]
    }
   ],
   "source": [
    "# Parse with raw XML since fastkml is failing\n",
    "gg_path = 'data/geoglyphs/amazon_geoglyphs.kml'\n",
    "with open(gg_path, 'rt', encoding='utf-8') as f:\n",
    "    doc = f.read()\n",
    "\n",
    "root = ET.fromstring(doc)\n",
    "\n",
    "# Get the Document element\n",
    "document = root.find('.//{http://www.opengis.net/kml/2.2}Document')\n",
    "\n",
    "# Get all Folders in the Document\n",
    "folders = document.findall('.//{http://www.opengis.net/kml/2.2}Folder')\n",
    "\n",
    "# Now extract Placemarks from all folders\n",
    "all_placemarks = []\n",
    "for i, folder in enumerate(folders):\n",
    "    folder_name = folder.find('.//{http://www.opengis.net/kml/2.2}name')\n",
    "    folder_name_text = folder_name.text if folder_name is not None else f\"Folder_{i}\"\n",
    "    \n",
    "    placemarks = folder.findall('.//{http://www.opengis.net/kml/2.2}Placemark')\n",
    "    if folder_name_text == 'geoglyphs':\n",
    "        all_placemarks.extend(placemarks)\n",
    "\n",
    "print(f\"Total geoglyphs found: {len(all_placemarks)}\")\n",
    "\n",
    "# Extract coordinates from placemarks\n",
    "def extract_coordinates(placemark):\n",
    "    \"\"\"Extract lat/lon from a placemark\"\"\"\n",
    "    # Look for Point geometry\n",
    "    point = placemark.find('.//{http://www.opengis.net/kml/2.2}Point')\n",
    "    if point is not None:\n",
    "        coords = point.find('.//{http://www.opengis.net/kml/2.2}coordinates')\n",
    "        if coords is not None:\n",
    "            # KML coordinates are in format: lon,lat,alt (or just lon,lat)\n",
    "            coord_text = coords.text.strip()\n",
    "            lon, lat = coord_text.split(',')[:2]\n",
    "            return float(lat), float(lon)\n",
    "    \n",
    "    # Look for other geometry types if needed\n",
    "    return None, None\n",
    "\n",
    "# Extract coordinates from all geoglyph placemarks\n",
    "coordinates = []\n",
    "names = []\n",
    "\n",
    "for placemark in all_placemarks:  # your filtered geoglyphs placemarks\n",
    "    lat, lon = extract_coordinates(placemark)\n",
    "    if lat is not None and lon is not None:\n",
    "        coordinates.append([lat, lon])\n",
    "        \n",
    "        # Get name if available\n",
    "        name_elem = placemark.find('.//{http://www.opengis.net/kml/2.2}name')\n",
    "        name = name_elem.text if name_elem is not None else \"Unknown\"\n",
    "        names.append(name)\n",
    "\n",
    "# Finally, save the geoglyph data as gg_gdf\n",
    "gg_gdf = gpd.GeoDataFrame({\n",
    "    'name': names,\n",
    "    'geometry': [Point(lon, lat) for lat, lon in coordinates]\n",
    "}, crs='EPSG:4326')"
   ]
  },
  {
   "cell_type": "markdown",
   "id": "6e6a1725",
   "metadata": {},
   "source": [
    "### Step 1 (Final): Visualize the Data\n",
    "Finally, we extract the TerraBrasilis and Geoglyph data, and plot them on a map."
   ]
  },
  {
   "cell_type": "code",
   "execution_count": 5,
   "id": "62124e9d",
   "metadata": {},
   "outputs": [
    {
     "data": {
      "text/html": [
       "\n",
       "            <style>\n",
       "                .geemap-dark {\n",
       "                    --jp-widgets-color: white;\n",
       "                    --jp-widgets-label-color: white;\n",
       "                    --jp-ui-font-color1: white;\n",
       "                    --jp-layout-color2: #454545;\n",
       "                    background-color: #383838;\n",
       "                }\n",
       "\n",
       "                .geemap-dark .jupyter-button {\n",
       "                    --jp-layout-color3: #383838;\n",
       "                }\n",
       "\n",
       "                .geemap-colab {\n",
       "                    background-color: var(--colab-primary-surface-color, white);\n",
       "                }\n",
       "\n",
       "                .geemap-colab .jupyter-button {\n",
       "                    --jp-layout-color3: var(--colab-primary-surface-color, white);\n",
       "                }\n",
       "            </style>\n",
       "            "
      ],
      "text/plain": [
       "<IPython.core.display.HTML object>"
      ]
     },
     "metadata": {},
     "output_type": "display_data"
    },
    {
     "data": {
      "application/vnd.jupyter.widget-view+json": {
       "model_id": "7526cd0d7632488b9f14d01e5ecaddf1",
       "version_major": 2,
       "version_minor": 0
      },
      "text/plain": [
       "Map(center=[-7.198098632959068, -57.68160332750702], controls=(WidgetControl(options=['position', 'transparent…"
      ]
     },
     "metadata": {},
     "output_type": "display_data"
    }
   ],
   "source": [
    "# Draw a map containing both the TerraBrasilis and geoglyph maps\n",
    "centroid = gpd.GeoSeries(tb_gdf.geometry.tolist()).union_all().centroid\n",
    "Map = geemap.Map(center=(centroid.y, centroid.x), zoom=5)\n",
    "Map.add_basemap('SATELLITE')\n",
    "Map.add_gdf(gg_gdf, layer_name=\"Geoglyphs\")\n",
    "Map.add_kml(\n",
    "    in_kml=tb_path,\n",
    "    layer_name=\"TerraBrasilis, 2023\",\n",
    "    info_mode=\"on_hover\",\n",
    "    style={'color': 'red', 'weight': 2, 'fillOpacity': 0.1}\n",
    ")\n",
    "display(Map)"
   ]
  },
  {
   "cell_type": "markdown",
   "id": "29b68472",
   "metadata": {},
   "source": [
    "### Step 1: Conclusions\n",
    "By finding areas where geoglyph and deforestation data overlap, we can identify areas that:\n",
    "1. Are known to harbor large numbers of geoglyphs\n",
    "2. Are unlikely to have been extensively searched by archaeologists."
   ]
  },
  {
   "cell_type": "markdown",
   "id": "ffee0ecb",
   "metadata": {},
   "source": [
    "### Steps 2 & 3: Produces at least five candidate “anomaly” footprints (lat/lon center) + Logs all OpenAI Prompts\n",
    "Here are a few candidate anomalies that I found by scanning areas where the geoglyphs and deforestation areas overlap:\n",
    "\n",
    "[9°38'8.15\"S, 65°24'19.28\"W] [link to chat](https://chatgpt.com/share/68388b55-c5a4-8004-a1bb-df06b70a1b09)\n",
    "\n",
    "[9° 8'23.47\"S, 65°23'59.25\"W] [link to chat](https://chatgpt.com/share/68388d05-cb80-8004-bead-bfc62b93404b)\n",
    "\n",
    "[8°43'59.96\"S, 67° 2'51.32\"W] [link to chat](https://chatgpt.com/share/68388ebc-9f08-8004-a3e1-e35217cc2232)\n",
    "\n",
    "[9°22'36.48\"S, 67°52'31.15\"W] [link to chat](https://chatgpt.com/share/68388bde-38f8-8004-9486-a7ffd96d82e0)\n",
    "\n",
    "[9°31'16.60\"S, 67°53'20.68\"W] [link to chat](https://chatgpt.com/share/68388cb6-0664-8004-8e66-22dc5856a156) (demonstrates a null result)"
   ]
  },
  {
   "cell_type": "code",
   "execution_count": 6,
   "id": "918113b2",
   "metadata": {},
   "outputs": [
    {
     "data": {
      "text/html": [
       "\n",
       "            <style>\n",
       "                .geemap-dark {\n",
       "                    --jp-widgets-color: white;\n",
       "                    --jp-widgets-label-color: white;\n",
       "                    --jp-ui-font-color1: white;\n",
       "                    --jp-layout-color2: #454545;\n",
       "                    background-color: #383838;\n",
       "                }\n",
       "\n",
       "                .geemap-dark .jupyter-button {\n",
       "                    --jp-layout-color3: #383838;\n",
       "                }\n",
       "\n",
       "                .geemap-colab {\n",
       "                    background-color: var(--colab-primary-surface-color, white);\n",
       "                }\n",
       "\n",
       "                .geemap-colab .jupyter-button {\n",
       "                    --jp-layout-color3: var(--colab-primary-surface-color, white);\n",
       "                }\n",
       "            </style>\n",
       "            "
      ],
      "text/plain": [
       "<IPython.core.display.HTML object>"
      ]
     },
     "metadata": {},
     "output_type": "display_data"
    },
    {
     "data": {
      "application/vnd.jupyter.widget-view+json": {
       "model_id": "7526cd0d7632488b9f14d01e5ecaddf1",
       "version_major": 2,
       "version_minor": 0
      },
      "text/plain": [
       "Map(center=[np.float64(-6.39643196582367), np.float64(-65.98623650002926)], controls=(WidgetControl(options=['…"
      ]
     },
     "metadata": {},
     "output_type": "display_data"
    }
   ],
   "source": [
    "# Create points from the coordinates\n",
    "points = [\n",
    "    [-9.635597, -65.405356],  # 9°38'8.15\"S, 65°24'19.28\"W\n",
    "    [-9.139853, -65.399792],  # 9° 8'23.47\"S, 65°23'59.25\"W\n",
    "    [-8.733322, -67.047589],  # 8°43'59.96\"S, 67° 2'51.32\"W\n",
    "    [-9.376800, -67.875319],  # 9°22'36.48\"S, 67°52'31.15\"W\n",
    "    [-9.521278, -67.889078]   # 9°31'16.60\"S, 67°53'20.68\"W\n",
    "]\n",
    "\n",
    "# Create GeoDataFrame for the points\n",
    "points_gdf = gpd.GeoDataFrame(\n",
    "    geometry=[Point(lon, lat) for lat, lon in points],\n",
    "    crs='EPSG:4326'\n",
    ")\n",
    "\n",
    "# Add points to the map with a distinct style\n",
    "Map.add_gdf(\n",
    "    points_gdf,\n",
    "    layer_name=\"Candidate Points\",\n",
    "    style={\n",
    "        'color': 'yellow',\n",
    "        'weight': 3,\n",
    "        'fillOpacity': 0.8,\n",
    "        'radius': 8\n",
    "    }\n",
    ")\n",
    "\n",
    "display(Map)\n",
    "Map.to_html('outputs/checkpoint_2.html')"
   ]
  },
  {
   "cell_type": "markdown",
   "id": "a170fc8e",
   "metadata": {},
   "source": [
    "### Step 4: Show us how you can use this new data in future discovery - re-prompt the model with this leverage.\n",
    "Now that we have a list of potential sites and we've verified that GPT models can identify geoglyphs, it's time to automate this process.\n",
    "\n",
    "We start by defining a function that creates map tiles of the points we've already defined."
   ]
  },
  {
   "cell_type": "code",
   "execution_count": 7,
   "id": "2b71b8f1",
   "metadata": {},
   "outputs": [
    {
     "data": {
      "text/html": [
       "\n",
       "            <style>\n",
       "                .geemap-dark {\n",
       "                    --jp-widgets-color: white;\n",
       "                    --jp-widgets-label-color: white;\n",
       "                    --jp-ui-font-color1: white;\n",
       "                    --jp-layout-color2: #454545;\n",
       "                    background-color: #383838;\n",
       "                }\n",
       "\n",
       "                .geemap-dark .jupyter-button {\n",
       "                    --jp-layout-color3: #383838;\n",
       "                }\n",
       "\n",
       "                .geemap-colab {\n",
       "                    background-color: var(--colab-primary-surface-color, white);\n",
       "                }\n",
       "\n",
       "                .geemap-colab .jupyter-button {\n",
       "                    --jp-layout-color3: var(--colab-primary-surface-color, white);\n",
       "                }\n",
       "            </style>\n",
       "            "
      ],
      "text/plain": [
       "<IPython.core.display.HTML object>"
      ]
     },
     "metadata": {},
     "output_type": "display_data"
    },
    {
     "name": "stdout",
     "output_type": "stream",
     "text": [
      "Saved: outputs/tiles/tile_-9.635597_-65.405356.png\n",
      "Saved: outputs/tiles/tile_-9.139853_-65.399792.png\n",
      "Saved: outputs/tiles/tile_-8.733322_-67.047589.png\n",
      "Saved: outputs/tiles/tile_-9.376800_-67.875319.png\n",
      "Saved: outputs/tiles/tile_-9.521278_-67.889078.png\n"
     ]
    }
   ],
   "source": [
    "def create_satellite_tile(lat, lon, zoom=17, output_dir=\"outputs/tiles\"):\n",
    "    Path(output_dir).mkdir(parents=True, exist_ok=True)\n",
    "    m = geemap.Map(center=(lat, lon), zoom=zoom)\n",
    "    m.add_basemap('SATELLITE')\n",
    "    html_path = os.path.join(output_dir, f\"tile_{lat:.6f}_{lon:.6f}.html\")\n",
    "    png_path = os.path.join(output_dir, f\"tile_{lat:.6f}_{lon:.6f}.png\")\n",
    "    m.to_html(html_path)\n",
    "    \n",
    "    # Set up headless Chrome\n",
    "    chrome_options = Options()\n",
    "    chrome_options.add_argument(\"--headless\")\n",
    "    chrome_options.add_argument(\"--window-size=800,800\")\n",
    "    driver = webdriver.Chrome(options=chrome_options)\n",
    "    driver.get(\"file://\" + os.path.abspath(html_path))\n",
    "    time.sleep(5)  # Wait for tiles to load\n",
    "    driver.save_screenshot(png_path)\n",
    "    driver.quit()\n",
    "    return png_path\n",
    "\n",
    "# Example usage\n",
    "points = [\n",
    "    [-9.635597, -65.405356],\n",
    "    [-9.139853, -65.399792],\n",
    "    [-8.733322, -67.047589],\n",
    "    [-9.376800, -67.875319],\n",
    "    [-9.521278, -67.889078]\n",
    "]\n",
    "for lat, lon in points:\n",
    "    out = create_satellite_tile(lat, lon)\n",
    "    print(\"Saved:\", out)"
   ]
  },
  {
   "cell_type": "markdown",
   "id": "15cff026",
   "metadata": {},
   "source": [
    "Now that we have a series of tiles, we conduct image classification with OpenAI models (in this case 4o).  We save the results in json format."
   ]
  },
  {
   "cell_type": "code",
   "execution_count": 8,
   "id": "3d10890a",
   "metadata": {},
   "outputs": [
    {
     "data": {
      "text/html": [
       "\n",
       "            <style>\n",
       "                .geemap-dark {\n",
       "                    --jp-widgets-color: white;\n",
       "                    --jp-widgets-label-color: white;\n",
       "                    --jp-ui-font-color1: white;\n",
       "                    --jp-layout-color2: #454545;\n",
       "                    background-color: #383838;\n",
       "                }\n",
       "\n",
       "                .geemap-dark .jupyter-button {\n",
       "                    --jp-layout-color3: #383838;\n",
       "                }\n",
       "\n",
       "                .geemap-colab {\n",
       "                    background-color: var(--colab-primary-surface-color, white);\n",
       "                }\n",
       "\n",
       "                .geemap-colab .jupyter-button {\n",
       "                    --jp-layout-color3: var(--colab-primary-surface-color, white);\n",
       "                }\n",
       "            </style>\n",
       "            "
      ],
      "text/plain": [
       "<IPython.core.display.HTML object>"
      ]
     },
     "metadata": {},
     "output_type": "display_data"
    },
    {
     "name": "stdout",
     "output_type": "stream",
     "text": [
      "Analysis complete. Results saved to outputs/results/tile_analysis_results.json\n"
     ]
    }
   ],
   "source": [
    "load_dotenv()\n",
    "\n",
    "client = OpenAI(\n",
    "    api_key=os.getenv(\"OPENAI_API_KEY\"),\n",
    ")\n",
    "\n",
    "def image_to_base64(image_path):\n",
    "    with open(image_path, \"rb\") as image_file:\n",
    "        return base64.b64encode(image_file.read()).decode('utf-8')\n",
    "\n",
    "def analyze_tile(tile_path, prompt, model=\"gpt-4o\"):\n",
    "    image_base64 = image_to_base64(tile_path)\n",
    "    response = client.chat.completions.create(\n",
    "        model=model,\n",
    "        messages=[\n",
    "            {\n",
    "                \"role\": \"user\",\n",
    "                \"content\": [\n",
    "                    {\n",
    "                        \"type\": \"text\",\n",
    "                        \"text\": prompt\n",
    "                    },\n",
    "                    {\n",
    "                        \"type\": \"image_url\",\n",
    "                        \"image_url\": {\n",
    "                            \"url\": f\"data:image/png;base64,{image_base64}\"\n",
    "                        }\n",
    "                    }\n",
    "                ]\n",
    "            }\n",
    "        ],\n",
    "        max_tokens=300\n",
    "    )\n",
    "    \n",
    "    return response.choices[0].message.content\n",
    "\n",
    "def analyze_all_tiles(prompt=\"Is there a geoglyph in this image? If so, describe it.\"):\n",
    "    \"\"\"\n",
    "    Analyze all PNG files in outputs/tiles directory and save results to JSON.\n",
    "    \n",
    "    Args:\n",
    "        prompt (str): The prompt to use for analysis\n",
    "    \"\"\"\n",
    "    # Create results directory if it doesn't exist\n",
    "    results_dir = Path(\"outputs/results\")\n",
    "    results_dir.mkdir(parents=True, exist_ok=True)\n",
    "    \n",
    "    # Get all PNG files\n",
    "    tiles_dir = Path(\"outputs/tiles\")\n",
    "    png_files = list(tiles_dir.glob(\"*.png\"))\n",
    "    \n",
    "    results = []\n",
    "    \n",
    "    for png_file in png_files:\n",
    "        # Extract coordinates from filename\n",
    "        match = re.search(r\"tile_(-?\\d+\\.\\d+)_(-?\\d+\\.\\d+)\\.png\", png_file.name)\n",
    "        if match:\n",
    "            lat, lon = float(match.group(1)), float(match.group(2))\n",
    "            \n",
    "            # Analyze the tile\n",
    "            analysis = analyze_tile(str(png_file), prompt)\n",
    "            \n",
    "            # Create result entry\n",
    "            result = {\n",
    "                \"filename\": png_file.name,\n",
    "                \"latitude\": lat,\n",
    "                \"longitude\": lon,\n",
    "                \"prompt\": prompt,\n",
    "                \"analysis\": analysis\n",
    "            }\n",
    "            \n",
    "            results.append(result)\n",
    "    \n",
    "    # Save results to JSON\n",
    "    output_file = results_dir / \"tile_analysis_results.json\"\n",
    "    with open(output_file, \"w\") as f:\n",
    "        json.dump(results, f, indent=2)\n",
    "    \n",
    "    return results\n",
    "\n",
    "if __name__ == \"__main__\":\n",
    "    results = analyze_all_tiles()\n",
    "    print(f\"Analysis complete. Results saved to outputs/results/tile_analysis_results.json\") "
   ]
  },
  {
   "cell_type": "markdown",
   "id": "9828181a",
   "metadata": {},
   "source": [
    "# Checkpoint 2: An Early Explorer: COMPLETE\n",
    "\n",
    "Show us you can mine and gather insights from multiple data types. Submit  code that:\n",
    "\n",
    "1. ✅ Loads two independent public sources (e.g., GEDI + TerraBrasilis polygons)\n",
    "2. ✅ Produces at least five candidate “anomaly” footprints (bbox WKT or lat/lon center + radius)\n",
    "3. ✅ Logs all dataset IDs and OpenAI prompts. Verify:  Automated script re‑runs → same five footprints ±50 m.\n",
    "4. ✅ Show us how you can use this new data in future discovery - re-prompt the model with this leverage."
   ]
  },
  {
   "cell_type": "markdown",
   "id": "713674ca",
   "metadata": {},
   "source": []
  }
 ],
 "metadata": {
  "kernelspec": {
   "display_name": "venv",
   "language": "python",
   "name": "python3"
  },
  "language_info": {
   "codemirror_mode": {
    "name": "ipython",
    "version": 3
   },
   "file_extension": ".py",
   "mimetype": "text/x-python",
   "name": "python",
   "nbconvert_exporter": "python",
   "pygments_lexer": "ipython3",
   "version": "3.13.3"
  }
 },
 "nbformat": 4,
 "nbformat_minor": 5
}
